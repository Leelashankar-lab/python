{
  "nbformat": 4,
  "nbformat_minor": 0,
  "metadata": {
    "colab": {
      "provenance": [],
      "authorship_tag": "ABX9TyP0o4ZS7HkH8LRi79ZtbGfA",
      "include_colab_link": true
    },
    "kernelspec": {
      "name": "python3",
      "display_name": "Python 3"
    },
    "language_info": {
      "name": "python"
    }
  },
  "cells": [
    {
      "cell_type": "markdown",
      "metadata": {
        "id": "view-in-github",
        "colab_type": "text"
      },
      "source": [
        "<a href=\"https://colab.research.google.com/github/Leelashankar-lab/python/blob/main/unit_1_py.ipynb\" target=\"_parent\"><img src=\"https://colab.research.google.com/assets/colab-badge.svg\" alt=\"Open In Colab\"/></a>"
      ]
    },
    {
      "cell_type": "markdown",
      "source": [
        "Q1.swaping of two numbers"
      ],
      "metadata": {
        "id": "fllf-G9X9_QY"
      }
    },
    {
      "cell_type": "code",
      "source": [
        "hulk_score=100\n",
        "thor_score=10\n",
        "hulk_score,thor_score=thor_score,hulk_score\n",
        "print(hulk_score,thor_score)"
      ],
      "metadata": {
        "colab": {
          "base_uri": "https://localhost:8080/"
        },
        "id": "TFlPjdo6_niZ",
        "outputId": "bdcf8b99-f1fc-4d00-ec35-ce883e7e8df9"
      },
      "execution_count": null,
      "outputs": [
        {
          "output_type": "stream",
          "name": "stdout",
          "text": [
            "10 100\n"
          ]
        }
      ]
    },
    {
      "cell_type": "markdown",
      "source": [
        "Q2.Hulk strngth level recorded as string \"1000\",Convert level into int?"
      ],
      "metadata": {
        "id": "amF3wzJSAibX"
      }
    },
    {
      "cell_type": "code",
      "source": [
        "hulk_level=\"1000\"\n",
        "hulk_level=int(hulk_level)\n",
        "print(hulk_level)"
      ],
      "metadata": {
        "colab": {
          "base_uri": "https://localhost:8080/"
        },
        "id": "rMKS0gT-AzQZ",
        "outputId": "d8e37549-bd3c-40d1-88ca-dca39901f5a1"
      },
      "execution_count": null,
      "outputs": [
        {
          "output_type": "stream",
          "name": "stdout",
          "text": [
            "1000\n"
          ]
        }
      ]
    },
    {
      "cell_type": "markdown",
      "source": [
        "Q3.Thor hammer weight 5000,calculate the gravity into float?"
      ],
      "metadata": {
        "id": "0kBOksxUA8D5"
      }
    },
    {
      "cell_type": "code",
      "source": [
        "hammer=5000\n",
        "weight=float(5000*(9.8))\n",
        "print(weight)"
      ],
      "metadata": {
        "id": "axxyD7QiB5GP",
        "colab": {
          "base_uri": "https://localhost:8080/"
        },
        "outputId": "edab1333-8212-48b6-fcff-4cdeae1b7f6c"
      },
      "execution_count": null,
      "outputs": [
        {
          "output_type": "stream",
          "name": "stdout",
          "text": [
            "49000.0\n"
          ]
        }
      ]
    },
    {
      "cell_type": "markdown",
      "source": [
        "Q4.Loki get input as string \"3600\" ,convert it into an integer and then to hours so final result is float"
      ],
      "metadata": {
        "id": "53YDXx0-BGkd"
      }
    },
    {
      "cell_type": "code",
      "source": [
        "seconds = \"3600\"\n",
        "seconds_int = int(seconds)\n",
        "hours = seconds_int / 3600\n",
        "print(float(hours))"
      ],
      "metadata": {
        "id": "diFgxI5iB6Ds",
        "colab": {
          "base_uri": "https://localhost:8080/"
        },
        "outputId": "9fc1fbec-0e24-47f7-ec1c-fab75ba5cb6d"
      },
      "execution_count": null,
      "outputs": [
        {
          "output_type": "stream",
          "name": "stdout",
          "text": [
            "1.0\n"
          ]
        }
      ]
    },
    {
      "cell_type": "markdown",
      "source": [
        "Q5.Iron man recorded seven hits out of 10 shots both convert them into float calculate the accuracy of the shots?"
      ],
      "metadata": {
        "id": "J5oelA4xBXu4"
      }
    },
    {
      "cell_type": "code",
      "source": [
        "hits = 7\n",
        "shots = 10\n",
        "\n",
        "accuracy = float(hits / shots) * 100\n",
        "print(accuracy)\n"
      ],
      "metadata": {
        "id": "GCIGg1GmB68s",
        "colab": {
          "base_uri": "https://localhost:8080/"
        },
        "outputId": "5c0d540d-ff4e-4233-da2e-687ff19099b5"
      },
      "execution_count": null,
      "outputs": [
        {
          "output_type": "stream",
          "name": "stdout",
          "text": [
            "70.0\n"
          ]
        }
      ]
    },
    {
      "cell_type": "markdown",
      "source": [
        "1.Python variable hold references to object,not the actual object themselfs."
      ],
      "metadata": {
        "id": "g2GUcKuZFY9j"
      }
    },
    {
      "cell_type": "code",
      "source": [
        "#ex1:\n",
        "a=[1,2,3]\n",
        "b=a\n",
        "print(a)\n",
        "print(b)\n",
        "b.append(4)\n",
        "print(\"new b:\",b)\n",
        "print(\"new a:\",a)"
      ],
      "metadata": {
        "colab": {
          "base_uri": "https://localhost:8080/"
        },
        "id": "p3g2B1wPGl19",
        "outputId": "34654ae0-3e6f-4a47-ebe8-c9ea6f75b847"
      },
      "execution_count": null,
      "outputs": [
        {
          "output_type": "stream",
          "name": "stdout",
          "text": [
            "[1, 2, 3]\n",
            "[1, 2, 3]\n",
            "new b [1, 2, 3, 4]\n",
            "new a [1, 2, 3, 4]\n"
          ]
        }
      ]
    },
    {
      "cell_type": "markdown",
      "source": [
        "2.Reaccening of a variable does not affect other variable referancing the object unless explecity updated."
      ],
      "metadata": {
        "id": "bzAWlbOxHavB"
      }
    },
    {
      "cell_type": "code",
      "source": [
        "#ex1:\n",
        "a=[1,2,3]\n",
        "b=a\n",
        "print(a)\n",
        "print(b)\n",
        "b=[4,5,6]\n",
        "print(\"a:\",a)\n",
        "print(\"new b:\",b)"
      ],
      "metadata": {
        "colab": {
          "base_uri": "https://localhost:8080/"
        },
        "id": "5L8cEsZ_HwzG",
        "outputId": "61374a33-2b96-4f11-c613-a25ec1cdba01"
      },
      "execution_count": null,
      "outputs": [
        {
          "output_type": "stream",
          "name": "stdout",
          "text": [
            "[1, 2, 3]\n",
            "[1, 2, 3]\n",
            "a: [1, 2, 3]\n",
            "new b: [4, 5, 6]\n"
          ]
        }
      ]
    },
    {
      "cell_type": "code",
      "source": [
        "#ex2:\n",
        "shield=[\"vibranium\",\"round\"]\n",
        "copy_shield=shield\n",
        "print(\"orginal shield is\",shield)\n",
        "print(\"wolverine changes the material of shield\")\n",
        "copy_shield[0]=\"adamantium\"\n",
        "print(shield)"
      ],
      "metadata": {
        "id": "UV8YSpPiIZX6"
      },
      "execution_count": null,
      "outputs": []
    },
    {
      "cell_type": "markdown",
      "source": [
        "3.Removing a variable."
      ],
      "metadata": {
        "id": "HMvvBX0HK5P4"
      }
    },
    {
      "cell_type": "code",
      "source": [
        "#ex1\n",
        "a=10\n",
        "del(a)\n",
        "print(a)"
      ],
      "metadata": {
        "colab": {
          "base_uri": "https://localhost:8080/",
          "height": 176
        },
        "id": "pgD77slYLLNB",
        "outputId": "16c77998-a76f-4de2-e1bb-1290f212a6d0"
      },
      "execution_count": null,
      "outputs": [
        {
          "output_type": "error",
          "ename": "NameError",
          "evalue": "name 'a' is not defined",
          "traceback": [
            "\u001b[0;31m---------------------------------------------------------------------------\u001b[0m",
            "\u001b[0;31mNameError\u001b[0m                                 Traceback (most recent call last)",
            "\u001b[0;32m/tmp/ipython-input-1418604385.py\u001b[0m in \u001b[0;36m<cell line: 0>\u001b[0;34m()\u001b[0m\n\u001b[1;32m      1\u001b[0m \u001b[0ma\u001b[0m\u001b[0;34m=\u001b[0m\u001b[0;36m10\u001b[0m\u001b[0;34m\u001b[0m\u001b[0;34m\u001b[0m\u001b[0m\n\u001b[1;32m      2\u001b[0m \u001b[0;32mdel\u001b[0m\u001b[0;34m(\u001b[0m\u001b[0ma\u001b[0m\u001b[0;34m)\u001b[0m\u001b[0;34m\u001b[0m\u001b[0;34m\u001b[0m\u001b[0m\n\u001b[0;32m----> 3\u001b[0;31m \u001b[0mprint\u001b[0m\u001b[0;34m(\u001b[0m\u001b[0ma\u001b[0m\u001b[0;34m)\u001b[0m\u001b[0;34m\u001b[0m\u001b[0;34m\u001b[0m\u001b[0m\n\u001b[0m",
            "\u001b[0;31mNameError\u001b[0m: name 'a' is not defined"
          ]
        }
      ]
    },
    {
      "cell_type": "code",
      "source": [
        "#ex2\n",
        "x=[\"apple\",\"banana\",\"orange\",\"mango\",\"pine_apple\"]\n",
        "del x[2:4]\n",
        "print(x)"
      ],
      "metadata": {
        "colab": {
          "base_uri": "https://localhost:8080/"
        },
        "id": "dVNUO2ymLa6U",
        "outputId": "f027ee34-6525-4a10-9606-f9424e7bf4f1"
      },
      "execution_count": null,
      "outputs": [
        {
          "output_type": "stream",
          "name": "stdout",
          "text": [
            "['apple', 'banana', 'pine_apple']\n"
          ]
        }
      ]
    },
    {
      "cell_type": "markdown",
      "source": [
        "Q6.You need to calculate the average of the power level of your favirote aveanger character."
      ],
      "metadata": {
        "id": "CYDje4yb5sV2"
      }
    },
    {
      "cell_type": "code",
      "source": [
        "power_level = [90,80,880,980,100]\n",
        "if(power_level):\n",
        "  avg = round(sum(power_level)/len(power_level),2)\n",
        "else:\n",
        "  avg=0\n",
        "print(avg)"
      ],
      "metadata": {
        "colab": {
          "base_uri": "https://localhost:8080/"
        },
        "id": "nZx3S1XSA6QA",
        "outputId": "134d8826-66df-4790-8742-9a7bea0ed10b"
      },
      "execution_count": null,
      "outputs": [
        {
          "output_type": "stream",
          "name": "stdout",
          "text": [
            "0\n"
          ]
        }
      ]
    },
    {
      "cell_type": "markdown",
      "source": [
        "Interview tip:You must validate your input data and empty or incorrect datatype can colapse even the strongest algorithem."
      ],
      "metadata": {
        "id": "aLcEI8tZDtOO"
      }
    },
    {
      "cell_type": "markdown",
      "source": [
        "String Datatype:\n",
        "\n",
        "1.orderd collection of characterstics arranged in a sequence.\n",
        "\n",
        "2.string are array of bytes represented in unicode character.\n",
        "\n",
        "3.no seperate character.character is length of one.\n",
        "\n",
        "4.string represented using \"\"  or  ''."
      ],
      "metadata": {
        "id": "H1O-FHT-BvxJ"
      }
    },
    {
      "cell_type": "code",
      "source": [
        "#ex1\n",
        "\n",
        "s1=\"this is a string\"\n",
        "s2=\"this \"+\"is \"+\"a \"+\"string\"\n",
        "print(s2)\n",
        "s3=\"this is an example of\\nstring\"\n",
        "print(s3)"
      ],
      "metadata": {
        "colab": {
          "base_uri": "https://localhost:8080/"
        },
        "id": "s8KW_rV7JCRT",
        "outputId": "63206655-fda1-4975-f038-dc26bdbd81ef"
      },
      "execution_count": null,
      "outputs": [
        {
          "output_type": "stream",
          "name": "stdout",
          "text": [
            "this is a string\n",
            "this is an example of\n",
            "string\n"
          ]
        }
      ]
    },
    {
      "cell_type": "markdown",
      "source": [
        "5.a string can be repeated by multiplying it by an integer."
      ],
      "metadata": {
        "id": "Gah6RBnKK-h7"
      }
    },
    {
      "cell_type": "code",
      "source": [
        "#ex2\n",
        "\n",
        "hulk=\"hulk :smash!!\"\n",
        "print(hulk*3)"
      ],
      "metadata": {
        "colab": {
          "base_uri": "https://localhost:8080/"
        },
        "id": "4tDOx42LKqQi",
        "outputId": "2f8c5271-b9e4-49e1-9eab-481c6ee9900a"
      },
      "execution_count": null,
      "outputs": [
        {
          "output_type": "stream",
          "name": "stdout",
          "text": [
            "hulk :smash!!hulk :smash!!hulk :smash!!\n"
          ]
        }
      ]
    },
    {
      "cell_type": "markdown",
      "source": [
        "->Comments"
      ],
      "metadata": {
        "id": "ljRJZevXMvtv"
      }
    },
    {
      "cell_type": "code",
      "source": [
        "#ex\n",
        "\n",
        "s=\"leela#shankar\"\n",
        "print(s)"
      ],
      "metadata": {
        "colab": {
          "base_uri": "https://localhost:8080/"
        },
        "id": "Im9XbgQrLdiI",
        "outputId": "45e1e6c8-c9d2-4fbf-d543-9f8e1d76cbd9"
      },
      "execution_count": null,
      "outputs": [
        {
          "output_type": "stream",
          "name": "stdout",
          "text": [
            "leela#shankar\n"
          ]
        }
      ]
    },
    {
      "cell_type": "markdown",
      "source": [
        "1.length of a string\n",
        "\n",
        "2.printing first character and last character\n",
        "\n",
        "3.in python -0==0"
      ],
      "metadata": {
        "id": "21cTZASMOEN8"
      }
    },
    {
      "cell_type": "code",
      "source": [
        "#ex\n",
        "\n",
        "avengers=\"iron man\"\n",
        "print(len(avengers))\n",
        "print(avengers[0])\n",
        "print(avengers[-1])"
      ],
      "metadata": {
        "colab": {
          "base_uri": "https://localhost:8080/"
        },
        "id": "4nB9QIp9N2ll",
        "outputId": "21523417-0dfd-48e8-91ce-57a5a0338fad"
      },
      "execution_count": null,
      "outputs": [
        {
          "output_type": "stream",
          "name": "stdout",
          "text": [
            "8\n",
            "i\n",
            "n\n"
          ]
        }
      ]
    },
    {
      "cell_type": "markdown",
      "source": [
        "**Slicing:\n",
        "\n",
        "\n",
        "1.sequence[start:stop:step]\n",
        "\n",
        "start → index to begin (default = 0)\n",
        "\n",
        "stop → index to end (excluded)\n",
        "\n",
        "step → gap between elements (default = 1)"
      ],
      "metadata": {
        "id": "n8M3cmSPPNiF"
      }
    },
    {
      "cell_type": "code",
      "source": [
        "#ex\n",
        "\n",
        "avengers=\"Iron man\"\n",
        "print(avengers[1:5])\n",
        "print(avengers[-1::-1])\n",
        "for i in avengers:\n",
        "  print(i,end=\"\")"
      ],
      "metadata": {
        "colab": {
          "base_uri": "https://localhost:8080/"
        },
        "id": "L2w7G2RWPOle",
        "outputId": "edeafe38-e1d1-461d-85e9-f3c6c04c84ac"
      },
      "execution_count": null,
      "outputs": [
        {
          "output_type": "stream",
          "name": "stdout",
          "text": [
            "ron \n",
            "nam norI\n"
          ]
        }
      ]
    },
    {
      "cell_type": "markdown",
      "source": [
        "Q. write the python program to select the parts (middle) of the sequences these sequences are the tokens of text(token = [\"ironman\",\"saves\",\"the\",\"world\",\"again\"])?"
      ],
      "metadata": {
        "id": "eC-hnvYHSNtA"
      }
    },
    {
      "cell_type": "code",
      "source": [
        "token = [\"ironman\",\"saves\",\"the\",\"world\",\"again\"]\n",
        "middle=token[int(len(token)/2)]\n",
        "print(middle)"
      ],
      "metadata": {
        "colab": {
          "base_uri": "https://localhost:8080/"
        },
        "id": "zrJ3bqfuS7F0",
        "outputId": "7429cbc1-be6b-4e78-9409-b1f020bf68d8"
      },
      "execution_count": null,
      "outputs": [
        {
          "output_type": "stream",
          "name": "stdout",
          "text": [
            "the\n"
          ]
        }
      ]
    },
    {
      "cell_type": "markdown",
      "source": [
        "1.slicing concept is use full in text processig(nlp)\n",
        "\n",
        "2.it is also use in feature extraction and sequence modules\n",
        "ex:RMM.tranformer,resister"
      ],
      "metadata": {
        "id": "ucSSxeMqT_y6"
      }
    }
  ]
}